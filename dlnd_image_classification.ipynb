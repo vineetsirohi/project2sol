{
 "cells": [
  {
   "cell_type": "markdown",
   "metadata": {
    "collapsed": true,
    "deletable": true,
    "editable": true
   },
   "source": [
    "# Image Classification\n",
    "In this project, you'll classify images from the [CIFAR-10 dataset](https://www.cs.toronto.edu/~kriz/cifar.html).  The dataset consists of airplanes, dogs, cats, and other objects. You'll preprocess the images, then train a convolutional neural network on all the samples. The images need to be normalized and the labels need to be one-hot encoded.  You'll get to apply what you learned and build a convolutional, max pooling, dropout, and fully connected layers.  At the end, you'll get to see your neural network's predictions on the sample images.\n",
    "## Get the Data\n",
    "Run the following cell to download the [CIFAR-10 dataset for python](https://www.cs.toronto.edu/~kriz/cifar-10-python.tar.gz)."
   ]
  },
  {
   "cell_type": "code",
   "execution_count": 1,
   "metadata": {
    "collapsed": false,
    "deletable": true,
    "editable": true
   },
   "outputs": [
    {
     "name": "stdout",
     "output_type": "stream",
     "text": [
      "All files found!\n"
     ]
    }
   ],
   "source": [
    "\"\"\"\n",
    "DON'T MODIFY ANYTHING IN THIS CELL THAT IS BELOW THIS LINE\n",
    "\"\"\"\n",
    "from urllib.request import urlretrieve\n",
    "from os.path import isfile, isdir\n",
    "from tqdm import tqdm\n",
    "import problem_unittests as tests\n",
    "import tarfile\n",
    "\n",
    "cifar10_dataset_folder_path = 'cifar-10-batches-py'\n",
    "\n",
    "# Use Floyd's cifar-10 dataset if present\n",
    "floyd_cifar10_location = '/input/cifar-10/python.tar.gz'\n",
    "if isfile(floyd_cifar10_location):\n",
    "    tar_gz_path = floyd_cifar10_location\n",
    "else:\n",
    "    tar_gz_path = 'cifar-10-python.tar.gz'\n",
    "\n",
    "class DLProgress(tqdm):\n",
    "    last_block = 0\n",
    "\n",
    "    def hook(self, block_num=1, block_size=1, total_size=None):\n",
    "        self.total = total_size\n",
    "        self.update((block_num - self.last_block) * block_size)\n",
    "        self.last_block = block_num\n",
    "\n",
    "if not isfile(tar_gz_path):\n",
    "    with DLProgress(unit='B', unit_scale=True, miniters=1, desc='CIFAR-10 Dataset') as pbar:\n",
    "        urlretrieve(\n",
    "            'https://www.cs.toronto.edu/~kriz/cifar-10-python.tar.gz',\n",
    "            tar_gz_path,\n",
    "            pbar.hook)\n",
    "\n",
    "if not isdir(cifar10_dataset_folder_path):\n",
    "    with tarfile.open(tar_gz_path) as tar:\n",
    "        tar.extractall()\n",
    "        tar.close()\n",
    "\n",
    "\n",
    "tests.test_folder_path(cifar10_dataset_folder_path)"
   ]
  },
  {
   "cell_type": "markdown",
   "metadata": {
    "deletable": true,
    "editable": true
   },
   "source": [
    "## Explore the Data\n",
    "The dataset is broken into batches to prevent your machine from running out of memory.  The CIFAR-10 dataset consists of 5 batches, named `data_batch_1`, `data_batch_2`, etc.. Each batch contains the labels and images that are one of the following:\n",
    "* airplane\n",
    "* automobile\n",
    "* bird\n",
    "* cat\n",
    "* deer\n",
    "* dog\n",
    "* frog\n",
    "* horse\n",
    "* ship\n",
    "* truck\n",
    "\n",
    "Understanding a dataset is part of making predictions on the data.  Play around with the code cell below by changing the `batch_id` and `sample_id`. The `batch_id` is the id for a batch (1-5). The `sample_id` is the id for a image and label pair in the batch.\n",
    "\n",
    "Ask yourself \"What are all possible labels?\", \"What is the range of values for the image data?\", \"Are the labels in order or random?\".  Answers to questions like these will help you preprocess the data and end up with better predictions."
   ]
  },
  {
   "cell_type": "code",
   "execution_count": 2,
   "metadata": {
    "collapsed": false,
    "deletable": true,
    "editable": true
   },
   "outputs": [
    {
     "name": "stdout",
     "output_type": "stream",
     "text": [
      "\n",
      "Stats of batch 1:\n",
      "Samples: 10000\n",
      "Label Counts: {0: 1005, 1: 974, 2: 1032, 3: 1016, 4: 999, 5: 937, 6: 1030, 7: 1001, 8: 1025, 9: 981}\n",
      "First 20 Labels: [6, 9, 9, 4, 1, 1, 2, 7, 8, 3, 4, 7, 7, 2, 9, 9, 9, 3, 2, 6]\n",
      "\n",
      "Example of Image 5:\n",
      "Image - Min Value: 0 Max Value: 252\n",
      "Image - Shape: (32, 32, 3)\n",
      "Label - Label Id: 1 Name: automobile\n"
     ]
    },
    {
     "data": {
      "image/png": "[encoded data removed]",
      "text/plain": [
       "<matplotlib.figure.Figure at 0x7fd9e417c048>"
      ]
     },
     "metadata": {
      "image/png": {
       "height": 250,
       "width": 253
      }
     },
     "output_type": "display_data"
    }
   ],
   "source": [
    "%matplotlib inline\n",
    "%config InlineBackend.figure_format = 'retina'\n",
    "\n",
    "import helper\n",
    "import numpy as np\n",
    "\n",
    "# Explore the dataset\n",
    "batch_id = 1\n",
    "sample_id = 5\n",
    "helper.display_stats(cifar10_dataset_folder_path, batch_id, sample_id)"
   ]
  },
  {
   "cell_type": "markdown",
   "metadata": {
    "deletable": true,
    "editable": true
   },
   "source": [
    "## Implement Preprocess Functions\n",
    "### Normalize\n",
    "In the cell below, implement the `normalize` function to take in image data, `x`, and return it as a normalized Numpy array. The values should be in the range of 0 to 1, inclusive.  The return object should be the same shape as `x`."
   ]
  },
  {
   "cell_type": "code",
   "execution_count": 3,
   "metadata": {
    "collapsed": false,
    "deletable": true,
    "editable": true
   },
   "outputs": [
    {
     "name": "stdout",
     "output_type": "stream",
     "text": [
      "Tests Passed\n"
     ]
    }
   ],
   "source": [
    "def normalize(x):\n",
    "    \"\"\"\n",
    "    Normalize a list of sample image data in the range of 0 to 1\n",
    "    : x: List of image data.  The image shape is (32, 32, 3)\n",
    "    : return: Numpy array of normalize data\n",
    "    \"\"\"\n",
    "   \n",
    "    return x/255\n",
    "\n",
    "\n",
    "\"\"\"\n",
    "DON'T MODIFY ANYTHING IN THIS CELL THAT IS BELOW THIS LINE\n",
    "\"\"\"\n",
    "tests.test_normalize(normalize)"
   ]
  },
  {
   "cell_type": "markdown",
   "metadata": {
    "deletable": true,
    "editable": true
   },
   "source": [
    "### One-hot encode\n",
    "Just like the previous code cell, you'll be implementing a function for preprocessing.  This time, you'll implement the `one_hot_encode` function. The input, `x`, are a list of labels.  Implement the function to return the list of labels as One-Hot encoded Numpy array.  The possible values for labels are 0 to 9. The one-hot encoding function should return the same encoding for each value between each call to `one_hot_encode`.  Make sure to save the map of encodings outside the function.\n",
    "\n",
    "Hint: Don't reinvent the wheel."
   ]
  },
  {
   "cell_type": "code",
   "execution_count": 5,
   "metadata": {
    "collapsed": false,
    "deletable": true,
    "editable": true
   },
   "outputs": [
    {
     "name": "stdout",
     "output_type": "stream",
     "text": [
      "Tests Passed\n"
     ]
    }
   ],
   "source": [
    "import tensorflow as tf\n",
    "def one_hot_encode(x):\n",
    "    \"\"\"\n",
    "    One hot encode a list of sample labels. Return a one-hot encoded vector for each label.\n",
    "    : x: List of sample Labels\n",
    "    : return: Numpy array of one-hot encoded labels\n",
    "    \"\"\"\n",
    "    res = tf.one_hot(x, 10)\n",
    "    with tf.Session() as sess:\n",
    "        return sess.run(res)\n",
    "\n",
    "\n",
    "\"\"\"\n",
    "DON'T MODIFY ANYTHING IN THIS CELL THAT IS BELOW THIS LINE\n",
    "\"\"\"\n",
    "tests.test_one_hot_encode(one_hot_encode)"
   ]
  },
  {
   "cell_type": "markdown",
   "metadata": {
    "deletable": true,
    "editable": true
   },
   "source": [
    "### Randomize Data\n",
    "As you saw from exploring the data above, the order of the samples are randomized.  It doesn't hurt to randomize it again, but you don't need to for this dataset."
   ]
  },
  {
   "cell_type": "markdown",
   "metadata": {
    "deletable": true,
    "editable": true
   },
   "source": [
    "## Preprocess all the data and save it\n",
    "Running the code cell below will preprocess all the CIFAR-10 data and save it to file. The code below also uses 10% of the training data for validation."
   ]
  },
  {
   "cell_type": "code",
   "execution_count": 6,
   "metadata": {
    "collapsed": false,
    "deletable": true,
    "editable": true
   },
   "outputs": [],
   "source": [
    "\"\"\"\n",
    "DON'T MODIFY ANYTHING IN THIS CELL\n",
    "\"\"\"\n",
    "# Preprocess Training, Validation, and Testing Data\n",
    "helper.preprocess_and_save_data(cifar10_dataset_folder_path, normalize, one_hot_encode)"
   ]
  },
  {
   "cell_type": "markdown",
   "metadata": {
    "deletable": true,
    "editable": true
   },
   "source": [
    "# Check Point\n",
    "This is your first checkpoint.  If you ever decide to come back to this notebook or have to restart the notebook, you can start from here.  The preprocessed data has been saved to disk."
   ]
  },
  {
   "cell_type": "code",
   "execution_count": 7,
   "metadata": {
    "collapsed": true,
    "deletable": true,
    "editable": true
   },
   "outputs": [],
   "source": [
    "\"\"\"\n",
    "DON'T MODIFY ANYTHING IN THIS CELL\n",
    "\"\"\"\n",
    "import pickle\n",
    "import problem_unittests as tests\n",
    "import helper\n",
    "\n",
    "# Load the Preprocessed Validation data\n",
    "valid_features, valid_labels = pickle.load(open('preprocess_validation.p', mode='rb'))"
   ]
  },
  {
   "cell_type": "markdown",
   "metadata": {
    "deletable": true,
    "editable": true
   },
   "source": [
    "## Build the network\n",
    "For the neural network, you'll build each layer into a function.  Most of the code you've seen has been outside of functions. To test your code more thoroughly, we require that you put each layer in a function.  This allows us to give you better feedback and test for simple mistakes using our unittests before you submit your project.\n",
    "\n",
    ">**Note:** If you're finding it hard to dedicate enough time for this course each week, we've provided a small shortcut to this part of the project. In the next couple of problems, you'll have the option to use classes from the [TensorFlow Layers](https://www.tensorflow.org/api_docs/python/tf/layers) or [TensorFlow Layers (contrib)](https://www.tensorflow.org/api_guides/python/contrib.layers) packages to build each layer, except the layers you build in the \"Convolutional and Max Pooling Layer\" section.  TF Layers is similar to Keras's and TFLearn's abstraction to layers, so it's easy to pickup.\n",
    "\n",
    ">However, if you would like to get the most out of this course, try to solve all the problems _without_ using anything from the TF Layers packages. You **can** still use classes from other packages that happen to have the same name as ones you find in TF Layers! For example, instead of using the TF Layers version of the `conv2d` class, [tf.layers.conv2d](https://www.tensorflow.org/api_docs/python/tf/layers/conv2d), you would want to use the TF Neural Network version of `conv2d`, [tf.nn.conv2d](https://www.tensorflow.org/api_docs/python/tf/nn/conv2d). \n",
    "\n",
    "Let's begin!\n",
    "\n",
    "### Input\n",
    "The neural network needs to read the image data, one-hot encoded labels, and dropout keep probability. Implement the following functions\n",
    "* Implement `neural_net_image_input`\n",
    " * Return a [TF Placeholder](https://www.tensorflow.org/api_docs/python/tf/placeholder)\n",
    " * Set the shape using `image_shape` with batch size set to `None`.\n",
    " * Name the TensorFlow placeholder \"x\" using the TensorFlow `name` parameter in the [TF Placeholder](https://www.tensorflow.org/api_docs/python/tf/placeholder).\n",
    "* Implement `neural_net_label_input`\n",
    " * Return a [TF Placeholder](https://www.tensorflow.org/api_docs/python/tf/placeholder)\n",
    " * Set the shape using `n_classes` with batch size set to `None`.\n",
    " * Name the TensorFlow placeholder \"y\" using the TensorFlow `name` parameter in the [TF Placeholder](https://www.tensorflow.org/api_docs/python/tf/placeholder).\n",
    "* Implement `neural_net_keep_prob_input`\n",
    " * Return a [TF Placeholder](https://www.tensorflow.org/api_docs/python/tf/placeholder) for dropout keep probability.\n",
    " * Name the TensorFlow placeholder \"keep_prob\" using the TensorFlow `name` parameter in the [TF Placeholder](https://www.tensorflow.org/api_docs/python/tf/placeholder).\n",
    "\n",
    "These names will be used at the end of the project to load your saved model.\n",
    "\n",
    "Note: `None` for shapes in TensorFlow allow for a dynamic size."
   ]
  },
  {
   "cell_type": "code",
   "execution_count": 8,
   "metadata": {
    "collapsed": false,
    "deletable": true,
    "editable": true
   },
   "outputs": [
    {
     "name": "stdout",
     "output_type": "stream",
     "text": [
      "Image Input Tests Passed.\n",
      "Label Input Tests Passed.\n",
      "Keep Prob Tests Passed.\n"
     ]
    }
   ],
   "source": [
    "import tensorflow as tf\n",
    "\n",
    "def neural_net_image_input(image_shape):\n",
    "    \"\"\"\n",
    "    Return a Tensor for a bach of image input\n",
    "    : image_shape: Shape of the images\n",
    "    : return: Tensor for image input.\n",
    "    \"\"\"\n",
    "    return tf.placeholder(tf.float32, [None, image_shape[0], image_shape[1], image_shape[2]], name='x')\n",
    "\n",
    "\n",
    "def neural_net_label_input(n_classes):\n",
    "    \"\"\"\n",
    "    Return a Tensor for a batch of label input\n",
    "    : n_classes: Number of classes\n",
    "    : return: Tensor for label input.\n",
    "    \"\"\"\n",
    "    return tf.placeholder(tf.float32, [None, n_classes], name='y')\n",
    "\n",
    "def neural_net_keep_prob_input():\n",
    "    \"\"\"\n",
    "    Return a Tensor for keep probability\n",
    "    : return: Tensor for keep probability.\n",
    "    \"\"\"\n",
    "    return tf.placeholder(tf.float32, name='keep_prob')\n",
    "\n",
    "\"\"\"\n",
    "DON'T MODIFY ANYTHING IN THIS CELL THAT IS BELOW THIS LINE\n",
    "\"\"\"\n",
    "tf.reset_default_graph()\n",
    "tests.test_nn_image_inputs(neural_net_image_input)\n",
    "tests.test_nn_label_inputs(neural_net_label_input)\n",
    "tests.test_nn_keep_prob_inputs(neural_net_keep_prob_input)"
   ]
  },
  {
   "cell_type": "markdown",
   "metadata": {
    "deletable": true,
    "editable": true
   },
   "source": [
    "### Convolution and Max Pooling Layer\n",
    "Convolution layers have a lot of success with images. For this code cell, you should implement the function `conv2d_maxpool` to apply convolution then max pooling:\n",
    "* Create the weight and bias using `conv_ksize`, `conv_num_outputs` and the shape of `x_tensor`.\n",
    "* Apply a convolution to `x_tensor` using weight and `conv_strides`.\n",
    " * We recommend you use same padding, but you're welcome to use any padding.\n",
    "* Add bias\n",
    "* Add a nonlinear activation to the convolution.\n",
    "* Apply Max Pooling using `pool_ksize` and `pool_strides`.\n",
    " * We recommend you use same padding, but you're welcome to use any padding.\n",
    "\n",
    "**Note:** You **can't** use [TensorFlow Layers](https://www.tensorflow.org/api_docs/python/tf/layers) or [TensorFlow Layers (contrib)](https://www.tensorflow.org/api_guides/python/contrib.layers) for **this** layer, but you can still use TensorFlow's [Neural Network](https://www.tensorflow.org/api_docs/python/tf/nn) package. You may still use the shortcut option for all the **other** layers."
   ]
  },
  {
   "cell_type": "code",
   "execution_count": 9,
   "metadata": {
    "collapsed": false,
    "deletable": true,
    "editable": true
   },
   "outputs": [
    {
     "name": "stdout",
     "output_type": "stream",
     "text": [
      "Tests Passed\n"
     ]
    }
   ],
   "source": [
    "def conv2d_maxpool(x_tensor, conv_num_outputs, conv_ksize, conv_strides, pool_ksize, pool_strides):\n",
    "    \"\"\"\n",
    "    Apply convolution then max pooling to x_tensor\n",
    "    :param x_tensor: TensorFlow Tensor\n",
    "    :param conv_num_outputs: Number of outputs for the convolutional layer\n",
    "    :param conv_ksize: kernal size 2-D Tuple for the convolutional layer\n",
    "    :param conv_strides: Stride 2-D Tuple for convolution\n",
    "    :param pool_ksize: kernal size 2-D Tuple for pool\n",
    "    :param pool_strides: Stride 2-D Tuple for pool\n",
    "    : return: A tensor that represents convolution and max pooling of x_tensor\n",
    "    \"\"\"\n",
    "    shape = x_tensor.get_shape().as_list()\n",
    "    weight = tf.Variable(tf.truncated_normal([conv_ksize[0], conv_ksize[1], shape[3], conv_num_outputs], stddev=0.1))\n",
    "    bias = tf.Variable(tf.random_normal([conv_num_outputs]))\n",
    "    \n",
    "    x = tf.nn.conv2d(x_tensor, weight, strides=[1, conv_strides[0], conv_strides[1], 1], padding='SAME')\n",
    "    x = tf.nn.bias_add(x, bias)\n",
    "    x = tf.nn.relu(x)\n",
    "    return tf.nn.max_pool(x, ksize=[1, pool_ksize[0], pool_ksize[1], 1], strides=[1, pool_strides[0], pool_strides[1], 1], padding='SAME')\n",
    "\n",
    "\n",
    "\"\"\"\n",
    "DON'T MODIFY ANYTHING IN THIS CELL THAT IS BELOW THIS LINE\n",
    "\"\"\"\n",
    "tests.test_con_pool(conv2d_maxpool)"
   ]
  },
  {
   "cell_type": "markdown",
   "metadata": {
    "deletable": true,
    "editable": true
   },
   "source": [
    "### Flatten Layer\n",
    "Implement the `flatten` function to change the dimension of `x_tensor` from a 4-D tensor to a 2-D tensor.  The output should be the shape (*Batch Size*, *Flattened Image Size*). Shortcut option: you can use classes from the [TensorFlow Layers](https://www.tensorflow.org/api_docs/python/tf/layers) or [TensorFlow Layers (contrib)](https://www.tensorflow.org/api_guides/python/contrib.layers) packages for this layer. For more of a challenge, only use other TensorFlow packages."
   ]
  },
  {
   "cell_type": "code",
   "execution_count": 10,
   "metadata": {
    "collapsed": false,
    "deletable": true,
    "editable": true
   },
   "outputs": [
    {
     "name": "stdout",
     "output_type": "stream",
     "text": [
      "Tests Passed\n"
     ]
    }
   ],
   "source": [
    "def flatten(x_tensor):\n",
    "    \"\"\"\n",
    "    Flatten x_tensor to (Batch Size, Flattened Image Size)\n",
    "    : x_tensor: A tensor of size (Batch Size, ...), where ... are the image dimensions.\n",
    "    : return: A tensor of size (Batch Size, Flattened Image Size).\n",
    "    \"\"\"\n",
    "    shape = x_tensor.get_shape().as_list()\n",
    "    image_size = shape[1]*shape[2]*shape[3]\n",
    "    return tf.reshape(x_tensor, [-1, image_size])\n",
    "\n",
    "\n",
    "\n",
    "\"\"\"\n",
    "DON'T MODIFY ANYTHING IN THIS CELL THAT IS BELOW THIS LINE\n",
    "\"\"\"\n",
    "tests.test_flatten(flatten)"
   ]
  },
  {
   "cell_type": "markdown",
   "metadata": {
    "deletable": true,
    "editable": true
   },
   "source": [
    "### Fully-Connected Layer\n",
    "Implement the `fully_conn` function to apply a fully connected layer to `x_tensor` with the shape (*Batch Size*, *num_outputs*). Shortcut option: you can use classes from the [TensorFlow Layers](https://www.tensorflow.org/api_docs/python/tf/layers) or [TensorFlow Layers (contrib)](https://www.tensorflow.org/api_guides/python/contrib.layers) packages for this layer. For more of a challenge, only use other TensorFlow packages."
   ]
  },
  {
   "cell_type": "code",
   "execution_count": 11,
   "metadata": {
    "collapsed": false,
    "deletable": true,
    "editable": true
   },
   "outputs": [
    {
     "name": "stdout",
     "output_type": "stream",
     "text": [
      "Tests Passed\n"
     ]
    }
   ],
   "source": [
    "def fully_conn(x_tensor, num_outputs):\n",
    "    \"\"\"\n",
    "    Apply a fully connected layer to x_tensor using weight and bias\n",
    "    : x_tensor: A 2-D tensor where the first dimension is batch size.\n",
    "    : num_outputs: The number of output that the new tensor should be.\n",
    "    : return: A 2-D tensor where the second dimension is num_outputs.\n",
    "    \"\"\"\n",
    "    weights = tf.Variable(tf.truncated_normal([x_tensor.get_shape().as_list()[1], num_outputs], stddev=0.1))\n",
    "    bias = tf.Variable(tf.random_normal([num_outputs]))\n",
    "    \n",
    "    fcl = tf.add(tf.matmul(x_tensor, weights), bias)\n",
    "    fcl = tf.nn.relu(fcl)\n",
    "    return fcl\n",
    "\n",
    "\n",
    "\"\"\"\n",
    "DON'T MODIFY ANYTHING IN THIS CELL THAT IS BELOW THIS LINE\n",
    "\"\"\"\n",
    "tests.test_fully_conn(fully_conn)"
   ]
  },
  {
   "cell_type": "markdown",
   "metadata": {
    "deletable": true,
    "editable": true
   },
   "source": [
    "### Output Layer\n",
    "Implement the `output` function to apply a fully connected layer to `x_tensor` with the shape (*Batch Size*, *num_outputs*). Shortcut option: you can use classes from the [TensorFlow Layers](https://www.tensorflow.org/api_docs/python/tf/layers) or [TensorFlow Layers (contrib)](https://www.tensorflow.org/api_guides/python/contrib.layers) packages for this layer. For more of a challenge, only use other TensorFlow packages.\n",
    "\n",
    "**Note:** Activation, softmax, or cross entropy should **not** be applied to this."
   ]
  },
  {
   "cell_type": "code",
   "execution_count": 12,
   "metadata": {
    "collapsed": false,
    "deletable": true,
    "editable": true
   },
   "outputs": [
    {
     "name": "stdout",
     "output_type": "stream",
     "text": [
      "Tests Passed\n"
     ]
    }
   ],
   "source": [
    "def output(x_tensor, num_outputs):\n",
    "    \"\"\"\n",
    "    Apply a output layer to x_tensor using weight and bias\n",
    "    : x_tensor: A 2-D tensor where the first dimension is batch size.\n",
    "    : num_outputs: The number of output that the new tensor should be.\n",
    "    : return: A 2-D tensor where the second dimension is num_outputs.\n",
    "    \"\"\"\n",
    "    weights = tf.Variable(tf.truncated_normal([x_tensor.get_shape().as_list()[1], num_outputs], stddev=0.1))\n",
    "    bias = tf.Variable(tf.random_normal([num_outputs]))\n",
    "    \n",
    "    out = tf.add(tf.matmul(x_tensor, weights), bias)\n",
    "    return out\n",
    "\n",
    "\n",
    "\"\"\"\n",
    "DON'T MODIFY ANYTHING IN THIS CELL THAT IS BELOW THIS LINE\n",
    "\"\"\"\n",
    "tests.test_output(output)"
   ]
  },
  {
   "cell_type": "markdown",
   "metadata": {
    "deletable": true,
    "editable": true
   },
   "source": [
    "### Create Convolutional Model\n",
    "Implement the function `conv_net` to create a convolutional neural network model. The function takes in a batch of images, `x`, and outputs logits.  Use the layers you created above to create this model:\n",
    "\n",
    "* Apply 1, 2, or 3 Convolution and Max Pool layers\n",
    "* Apply a Flatten Layer\n",
    "* Apply 1, 2, or 3 Fully Connected Layers\n",
    "* Apply an Output Layer\n",
    "* Return the output\n",
    "* Apply [TensorFlow's Dropout](https://www.tensorflow.org/api_docs/python/tf/nn/dropout) to one or more layers in the model using `keep_prob`. "
   ]
  },
  {
   "cell_type": "code",
   "execution_count": 13,
   "metadata": {
    "collapsed": false,
    "deletable": true,
    "editable": true
   },
   "outputs": [
    {
     "name": "stdout",
     "output_type": "stream",
     "text": [
      "Neural Network Built!\n"
     ]
    }
   ],
   "source": [
    "def conv_net(x, keep_prob):\n",
    "    \"\"\"\n",
    "    Create a convolutional neural network model\n",
    "    : x: Placeholder tensor that holds image data.\n",
    "    : keep_prob: Placeholder tensor that hold dropout keep probability.\n",
    "    : return: Tensor that represents logits\n",
    "    \"\"\"\n",
    "    # TODO: Apply 1, 2, or 3 Convolution and Max Pool layers\n",
    "    #    Play around with different number of outputs, kernel size and stride\n",
    "    # Function Definition from Above:\n",
    "    x = conv2d_maxpool(x, 32, (5,5), (1,1), (2,2), (2,2))\n",
    "    x = conv2d_maxpool(x, 64, (5,5), (1,1), (2,2), (2,2))\n",
    "    x = conv2d_maxpool(x, 1024, (5,5), (1,1), (2,2), (2,2))\n",
    "    \n",
    "\n",
    "    # Function Definition from Above:\n",
    "    x = flatten(x)\n",
    "    \n",
    "\n",
    "    #    Play around with different number of outputs\n",
    "    # Function Definition from Above:\n",
    "    x = fully_conn(x, 1024)\n",
    "    x = tf.nn.dropout(x, keep_prob)\n",
    "    \n",
    "    #    Set this to the number of classes\n",
    "    # Function Definition from Above:\n",
    "    x = output(x, 10)\n",
    "    \n",
    "    \n",
    "    return x\n",
    "\n",
    "\n",
    "\"\"\"\n",
    "DON'T MODIFY ANYTHING IN THIS CELL THAT IS BELOW THIS LINE\n",
    "\"\"\"\n",
    "\n",
    "##############################\n",
    "## Build the Neural Network ##\n",
    "##############################\n",
    "\n",
    "# Remove previous weights, bias, inputs, etc..\n",
    "tf.reset_default_graph()\n",
    "\n",
    "# Inputs\n",
    "x = neural_net_image_input((32, 32, 3))\n",
    "y = neural_net_label_input(10)\n",
    "keep_prob = neural_net_keep_prob_input()\n",
    "\n",
    "# Model\n",
    "logits = conv_net(x, keep_prob)\n",
    "\n",
    "# Name logits Tensor, so that is can be loaded from disk after training\n",
    "logits = tf.identity(logits, name='logits')\n",
    "\n",
    "# Loss and Optimizer\n",
    "cost = tf.reduce_mean(tf.nn.softmax_cross_entropy_with_logits(logits=logits, labels=y))\n",
    "optimizer = tf.train.AdamOptimizer().minimize(cost)\n",
    "\n",
    "# Accuracy\n",
    "correct_pred = tf.equal(tf.argmax(logits, 1), tf.argmax(y, 1))\n",
    "accuracy = tf.reduce_mean(tf.cast(correct_pred, tf.float32), name='accuracy')\n",
    "\n",
    "tests.test_conv_net(conv_net)"
   ]
  },
  {
   "cell_type": "markdown",
   "metadata": {
    "deletable": true,
    "editable": true
   },
   "source": [
    "## Train the Neural Network\n",
    "### Single Optimization\n",
    "Implement the function `train_neural_network` to do a single optimization.  The optimization should use `optimizer` to optimize in `session` with a `feed_dict` of the following:\n",
    "* `x` for image input\n",
    "* `y` for labels\n",
    "* `keep_prob` for keep probability for dropout\n",
    "\n",
    "This function will be called for each batch, so `tf.global_variables_initializer()` has already been called.\n",
    "\n",
    "Note: Nothing needs to be returned. This function is only optimizing the neural network."
   ]
  },
  {
   "cell_type": "code",
   "execution_count": 14,
   "metadata": {
    "collapsed": false,
    "deletable": true,
    "editable": true
   },
   "outputs": [
    {
     "name": "stdout",
     "output_type": "stream",
     "text": [
      "Tests Passed\n"
     ]
    }
   ],
   "source": [
    "def train_neural_network(session, optimizer, keep_probability, feature_batch, label_batch):\n",
    "    \"\"\"\n",
    "    Optimize the session on a batch of images and labels\n",
    "    : session: Current TensorFlow session\n",
    "    : optimizer: TensorFlow optimizer function\n",
    "    : keep_probability: keep probability\n",
    "    : feature_batch: Batch of Numpy image data\n",
    "    : label_batch: Batch of Numpy label data\n",
    "    \"\"\"\n",
    "    session.run(optimizer, feed_dict={\n",
    "        x:feature_batch,\n",
    "        y:label_batch,\n",
    "        keep_prob:keep_probability})\n",
    "\n",
    "\n",
    "\"\"\"\n",
    "DON'T MODIFY ANYTHING IN THIS CELL THAT IS BELOW THIS LINE\n",
    "\"\"\"\n",
    "tests.test_train_nn(train_neural_network)"
   ]
  },
  {
   "cell_type": "markdown",
   "metadata": {
    "deletable": true,
    "editable": true
   },
   "source": [
    "### Show Stats\n",
    "Implement the function `print_stats` to print loss and validation accuracy.  Use the global variables `valid_features` and `valid_labels` to calculate validation accuracy.  Use a keep probability of `1.0` to calculate the loss and validation accuracy."
   ]
  },
  {
   "cell_type": "code",
   "execution_count": 15,
   "metadata": {
    "collapsed": false,
    "deletable": true,
    "editable": true
   },
   "outputs": [],
   "source": [
    "def print_stats(session, feature_batch, label_batch, cost, accuracy):\n",
    "    \"\"\"\n",
    "    Print information about loss and validation accuracy\n",
    "    : session: Current TensorFlow session\n",
    "    : feature_batch: Batch of Numpy image data\n",
    "    : label_batch: Batch of Numpy label data\n",
    "    : cost: TensorFlow cost function\n",
    "    : accuracy: TensorFlow accuracy function\n",
    "    \"\"\"\n",
    "    loss = session.run(cost, feed_dict={\n",
    "        x:feature_batch,\n",
    "        y:label_batch,\n",
    "        keep_prob: 1.\n",
    "    })\n",
    "    \n",
    "    val_accuracy = session.run(accuracy, feed_dict={\n",
    "        x: valid_features,\n",
    "        y: valid_labels,\n",
    "        keep_prob: 1.\n",
    "    })\n",
    "    \n",
    "    print('Loss: {:>10.4f} validation Accuracy: {:.6f}'.format(\n",
    "         loss, val_accuracy\n",
    "         ))"
   ]
  },
  {
   "cell_type": "markdown",
   "metadata": {
    "deletable": true,
    "editable": true
   },
   "source": [
    "### Hyperparameters\n",
    "Tune the following parameters:\n",
    "* Set `epochs` to the number of iterations until the network stops learning or start overfitting\n",
    "* Set `batch_size` to the highest number that your machine has memory for.  Most people set them to common sizes of memory:\n",
    " * 64\n",
    " * 128\n",
    " * 256\n",
    " * ...\n",
    "* Set `keep_probability` to the probability of keeping a node using dropout"
   ]
  },
  {
   "cell_type": "code",
   "execution_count": 16,
   "metadata": {
    "collapsed": true,
    "deletable": true,
    "editable": true
   },
   "outputs": [],
   "source": [
    "# TODO: Tune Parameters\n",
    "epochs = 40\n",
    "batch_size = 256\n",
    "keep_probability = 0.75"
   ]
  },
  {
   "cell_type": "markdown",
   "metadata": {
    "deletable": true,
    "editable": true
   },
   "source": [
    "### Train on a Single CIFAR-10 Batch\n",
    "Instead of training the neural network on all the CIFAR-10 batches of data, let's use a single batch. This should save time while you iterate on the model to get a better accuracy.  Once the final validation accuracy is 50% or greater, run the model on all the data in the next section."
   ]
  },
  {
   "cell_type": "code",
   "execution_count": 17,
   "metadata": {
    "collapsed": false,
    "deletable": true,
    "editable": true
   },
   "outputs": [
    {
     "name": "stdout",
     "output_type": "stream",
     "text": [
      "Checking the Training on a Single Batch...\n",
      "Epoch  1, CIFAR-10 Batch 1:  Loss:     3.1446 validation Accuracy: 0.162000\n",
      "Epoch  2, CIFAR-10 Batch 1:  Loss:     2.1964 validation Accuracy: 0.175400\n",
      "Epoch  3, CIFAR-10 Batch 1:  Loss:     2.0156 validation Accuracy: 0.270400\n",
      "Epoch  4, CIFAR-10 Batch 1:  Loss:     1.9371 validation Accuracy: 0.302200\n",
      "Epoch  5, CIFAR-10 Batch 1:  Loss:     1.8133 validation Accuracy: 0.331000\n",
      "Epoch  6, CIFAR-10 Batch 1:  Loss:     1.7459 validation Accuracy: 0.346200\n",
      "Epoch  7, CIFAR-10 Batch 1:  Loss:     1.7190 validation Accuracy: 0.300800\n",
      "Epoch  8, CIFAR-10 Batch 1:  Loss:     1.5648 validation Accuracy: 0.366400\n",
      "Epoch  9, CIFAR-10 Batch 1:  Loss:     1.4708 validation Accuracy: 0.391000\n",
      "Epoch 10, CIFAR-10 Batch 1:  Loss:     1.4152 validation Accuracy: 0.390200\n",
      "Epoch 11, CIFAR-10 Batch 1:  Loss:     1.3879 validation Accuracy: 0.405400\n",
      "Epoch 12, CIFAR-10 Batch 1:  Loss:     1.3245 validation Accuracy: 0.412400\n",
      "Epoch 13, CIFAR-10 Batch 1:  Loss:     1.2141 validation Accuracy: 0.424400\n",
      "Epoch 14, CIFAR-10 Batch 1:  Loss:     1.1301 validation Accuracy: 0.421200\n",
      "Epoch 15, CIFAR-10 Batch 1:  Loss:     1.1307 validation Accuracy: 0.412200\n",
      "Epoch 16, CIFAR-10 Batch 1:  Loss:     0.9648 validation Accuracy: 0.458400\n",
      "Epoch 17, CIFAR-10 Batch 1:  Loss:     1.0184 validation Accuracy: 0.424200\n",
      "Epoch 18, CIFAR-10 Batch 1:  Loss:     1.0440 validation Accuracy: 0.442600\n",
      "Epoch 19, CIFAR-10 Batch 1:  Loss:     0.9458 validation Accuracy: 0.455200\n",
      "Epoch 20, CIFAR-10 Batch 1:  Loss:     0.8881 validation Accuracy: 0.478000\n",
      "Epoch 21, CIFAR-10 Batch 1:  Loss:     0.8593 validation Accuracy: 0.455200\n",
      "Epoch 22, CIFAR-10 Batch 1:  Loss:     0.8049 validation Accuracy: 0.461400\n",
      "Epoch 23, CIFAR-10 Batch 1:  Loss:     0.6990 validation Accuracy: 0.475600\n",
      "Epoch 24, CIFAR-10 Batch 1:  Loss:     0.7117 validation Accuracy: 0.476400\n",
      "Epoch 25, CIFAR-10 Batch 1:  Loss:     0.6375 validation Accuracy: 0.490000\n",
      "Epoch 26, CIFAR-10 Batch 1:  Loss:     0.6032 validation Accuracy: 0.476200\n",
      "Epoch 27, CIFAR-10 Batch 1:  Loss:     0.5863 validation Accuracy: 0.495000\n",
      "Epoch 28, CIFAR-10 Batch 1:  Loss:     0.5245 validation Accuracy: 0.482600\n",
      "Epoch 29, CIFAR-10 Batch 1:  Loss:     0.4708 validation Accuracy: 0.495800\n",
      "Epoch 30, CIFAR-10 Batch 1:  Loss:     0.4552 validation Accuracy: 0.497200\n",
      "Epoch 31, CIFAR-10 Batch 1:  Loss:     0.4174 validation Accuracy: 0.500800\n",
      "Epoch 32, CIFAR-10 Batch 1:  Loss:     0.4069 validation Accuracy: 0.489800\n",
      "Epoch 33, CIFAR-10 Batch 1:  Loss:     0.3297 validation Accuracy: 0.503800\n",
      "Epoch 34, CIFAR-10 Batch 1:  Loss:     0.3467 validation Accuracy: 0.503800\n",
      "Epoch 35, CIFAR-10 Batch 1:  Loss:     0.3222 validation Accuracy: 0.510600\n",
      "Epoch 36, CIFAR-10 Batch 1:  Loss:     0.3232 validation Accuracy: 0.507200\n",
      "Epoch 37, CIFAR-10 Batch 1:  Loss:     0.3045 validation Accuracy: 0.515800\n",
      "Epoch 38, CIFAR-10 Batch 1:  Loss:     0.3025 validation Accuracy: 0.509000\n",
      "Epoch 39, CIFAR-10 Batch 1:  Loss:     0.2567 validation Accuracy: 0.517800\n",
      "Epoch 40, CIFAR-10 Batch 1:  Loss:     0.2946 validation Accuracy: 0.512400\n"
     ]
    }
   ],
   "source": [
    "\"\"\"\n",
    "DON'T MODIFY ANYTHING IN THIS CELL\n",
    "\"\"\"\n",
    "print('Checking the Training on a Single Batch...')\n",
    "with tf.Session() as sess:\n",
    "    # Initializing the variables\n",
    "    sess.run(tf.global_variables_initializer())\n",
    "    \n",
    "    # Training cycle\n",
    "    for epoch in range(epochs):\n",
    "        batch_i = 1\n",
    "        for batch_features, batch_labels in helper.load_preprocess_training_batch(batch_i, batch_size):\n",
    "            train_neural_network(sess, optimizer, keep_probability, batch_features, batch_labels)\n",
    "        print('Epoch {:>2}, CIFAR-10 Batch {}:  '.format(epoch + 1, batch_i), end='')\n",
    "        print_stats(sess, batch_features, batch_labels, cost, accuracy)"
   ]
  },
  {
   "cell_type": "markdown",
   "metadata": {
    "deletable": true,
    "editable": true
   },
   "source": [
    "### Fully Train the Model\n",
    "Now that you got a good accuracy with a single CIFAR-10 batch, try it with all five batches."
   ]
  },
  {
   "cell_type": "code",
   "execution_count": 18,
   "metadata": {
    "collapsed": false,
    "deletable": true,
    "editable": true
   },
   "outputs": [
    {
     "name": "stdout",
     "output_type": "stream",
     "text": [
      "Training...\n",
      "Epoch  1, CIFAR-10 Batch 1:  Loss:     4.3129 validation Accuracy: 0.135000\n",
      "Epoch  1, CIFAR-10 Batch 2:  Loss:     2.1377 validation Accuracy: 0.209800\n",
      "Epoch  1, CIFAR-10 Batch 3:  Loss:     1.9987 validation Accuracy: 0.219600\n",
      "Epoch  1, CIFAR-10 Batch 4:  Loss:     2.0003 validation Accuracy: 0.249200\n",
      "Epoch  1, CIFAR-10 Batch 5:  Loss:     2.1032 validation Accuracy: 0.307800\n",
      "Epoch  2, CIFAR-10 Batch 1:  Loss:     2.1597 validation Accuracy: 0.281600\n",
      "Epoch  2, CIFAR-10 Batch 2:  Loss:     1.8165 validation Accuracy: 0.299400\n",
      "Epoch  2, CIFAR-10 Batch 3:  Loss:     1.8369 validation Accuracy: 0.300400\n",
      "Epoch  2, CIFAR-10 Batch 4:  Loss:     1.8047 validation Accuracy: 0.309600\n",
      "Epoch  2, CIFAR-10 Batch 5:  Loss:     1.9331 validation Accuracy: 0.297400\n",
      "Epoch  3, CIFAR-10 Batch 1:  Loss:     2.0570 validation Accuracy: 0.320600\n",
      "Epoch  3, CIFAR-10 Batch 2:  Loss:     1.7293 validation Accuracy: 0.342800\n",
      "Epoch  3, CIFAR-10 Batch 3:  Loss:     1.6332 validation Accuracy: 0.328800\n",
      "Epoch  3, CIFAR-10 Batch 4:  Loss:     1.7016 validation Accuracy: 0.335200\n",
      "Epoch  3, CIFAR-10 Batch 5:  Loss:     1.8824 validation Accuracy: 0.341200\n",
      "Epoch  4, CIFAR-10 Batch 1:  Loss:     1.9215 validation Accuracy: 0.352400\n",
      "Epoch  4, CIFAR-10 Batch 2:  Loss:     1.6772 validation Accuracy: 0.339000\n",
      "Epoch  4, CIFAR-10 Batch 3:  Loss:     1.6075 validation Accuracy: 0.362200\n",
      "Epoch  4, CIFAR-10 Batch 4:  Loss:     1.6014 validation Accuracy: 0.366000\n",
      "Epoch  4, CIFAR-10 Batch 5:  Loss:     1.7317 validation Accuracy: 0.386800\n",
      "Epoch  5, CIFAR-10 Batch 1:  Loss:     1.8042 validation Accuracy: 0.353400\n",
      "Epoch  5, CIFAR-10 Batch 2:  Loss:     1.6076 validation Accuracy: 0.371200\n",
      "Epoch  5, CIFAR-10 Batch 3:  Loss:     1.4680 validation Accuracy: 0.404800\n",
      "Epoch  5, CIFAR-10 Batch 4:  Loss:     1.4837 validation Accuracy: 0.384200\n",
      "Epoch  5, CIFAR-10 Batch 5:  Loss:     1.7374 validation Accuracy: 0.348400\n",
      "Epoch  6, CIFAR-10 Batch 1:  Loss:     1.7258 validation Accuracy: 0.403200\n",
      "Epoch  6, CIFAR-10 Batch 2:  Loss:     1.5152 validation Accuracy: 0.394000\n",
      "Epoch  6, CIFAR-10 Batch 3:  Loss:     1.4758 validation Accuracy: 0.389800\n",
      "Epoch  6, CIFAR-10 Batch 4:  Loss:     1.4418 validation Accuracy: 0.413600\n",
      "Epoch  6, CIFAR-10 Batch 5:  Loss:     1.5874 validation Accuracy: 0.400600\n",
      "Epoch  7, CIFAR-10 Batch 1:  Loss:     1.6613 validation Accuracy: 0.416200\n",
      "Epoch  7, CIFAR-10 Batch 2:  Loss:     1.5827 validation Accuracy: 0.372000\n",
      "Epoch  7, CIFAR-10 Batch 3:  Loss:     1.4310 validation Accuracy: 0.372000\n",
      "Epoch  7, CIFAR-10 Batch 4:  Loss:     1.4837 validation Accuracy: 0.412800\n",
      "Epoch  7, CIFAR-10 Batch 5:  Loss:     1.5187 validation Accuracy: 0.416400\n",
      "Epoch  8, CIFAR-10 Batch 1:  Loss:     1.6301 validation Accuracy: 0.421000\n",
      "Epoch  8, CIFAR-10 Batch 2:  Loss:     1.4324 validation Accuracy: 0.430000\n",
      "Epoch  8, CIFAR-10 Batch 3:  Loss:     1.2805 validation Accuracy: 0.435600\n",
      "Epoch  8, CIFAR-10 Batch 4:  Loss:     1.3225 validation Accuracy: 0.450000\n",
      "Epoch  8, CIFAR-10 Batch 5:  Loss:     1.5761 validation Accuracy: 0.414200\n",
      "Epoch  9, CIFAR-10 Batch 1:  Loss:     1.4916 validation Accuracy: 0.453400\n",
      "Epoch  9, CIFAR-10 Batch 2:  Loss:     1.2740 validation Accuracy: 0.437200\n",
      "Epoch  9, CIFAR-10 Batch 3:  Loss:     1.1472 validation Accuracy: 0.429000\n",
      "Epoch  9, CIFAR-10 Batch 4:  Loss:     1.2432 validation Accuracy: 0.466800\n",
      "Epoch  9, CIFAR-10 Batch 5:  Loss:     1.3603 validation Accuracy: 0.445800\n",
      "Epoch 10, CIFAR-10 Batch 1:  Loss:     1.4645 validation Accuracy: 0.450400\n",
      "Epoch 10, CIFAR-10 Batch 2:  Loss:     1.1972 validation Accuracy: 0.445200\n",
      "Epoch 10, CIFAR-10 Batch 3:  Loss:     1.1171 validation Accuracy: 0.466000\n",
      "Epoch 10, CIFAR-10 Batch 4:  Loss:     1.1512 validation Accuracy: 0.470600\n",
      "Epoch 10, CIFAR-10 Batch 5:  Loss:     1.2901 validation Accuracy: 0.463400\n",
      "Epoch 11, CIFAR-10 Batch 1:  Loss:     1.3804 validation Accuracy: 0.462200\n",
      "Epoch 11, CIFAR-10 Batch 2:  Loss:     1.0632 validation Accuracy: 0.475200\n",
      "Epoch 11, CIFAR-10 Batch 3:  Loss:     1.1667 validation Accuracy: 0.386400\n",
      "Epoch 11, CIFAR-10 Batch 4:  Loss:     1.1639 validation Accuracy: 0.492600\n",
      "Epoch 11, CIFAR-10 Batch 5:  Loss:     1.2444 validation Accuracy: 0.472000\n",
      "Epoch 12, CIFAR-10 Batch 1:  Loss:     1.2504 validation Accuracy: 0.477200\n",
      "Epoch 12, CIFAR-10 Batch 2:  Loss:     1.0430 validation Accuracy: 0.467600\n",
      "Epoch 12, CIFAR-10 Batch 3:  Loss:     1.0230 validation Accuracy: 0.489000\n",
      "Epoch 12, CIFAR-10 Batch 4:  Loss:     1.0534 validation Accuracy: 0.494800\n",
      "Epoch 12, CIFAR-10 Batch 5:  Loss:     1.1796 validation Accuracy: 0.486600\n",
      "Epoch 13, CIFAR-10 Batch 1:  Loss:     1.1353 validation Accuracy: 0.476400\n",
      "Epoch 13, CIFAR-10 Batch 2:  Loss:     0.9723 validation Accuracy: 0.492200\n",
      "Epoch 13, CIFAR-10 Batch 3:  Loss:     0.9599 validation Accuracy: 0.483000\n",
      "Epoch 13, CIFAR-10 Batch 4:  Loss:     1.0554 validation Accuracy: 0.482200\n",
      "Epoch 13, CIFAR-10 Batch 5:  Loss:     1.1323 validation Accuracy: 0.494400\n",
      "Epoch 14, CIFAR-10 Batch 1:  Loss:     1.1919 validation Accuracy: 0.434400\n",
      "Epoch 14, CIFAR-10 Batch 2:  Loss:     1.0323 validation Accuracy: 0.473600\n",
      "Epoch 14, CIFAR-10 Batch 3:  Loss:     0.8874 validation Accuracy: 0.484400\n",
      "Epoch 14, CIFAR-10 Batch 4:  Loss:     0.9788 validation Accuracy: 0.508400\n",
      "Epoch 14, CIFAR-10 Batch 5:  Loss:     1.1253 validation Accuracy: 0.500800\n",
      "Epoch 15, CIFAR-10 Batch 1:  Loss:     1.0387 validation Accuracy: 0.502400\n",
      "Epoch 15, CIFAR-10 Batch 2:  Loss:     0.9572 validation Accuracy: 0.510000\n",
      "Epoch 15, CIFAR-10 Batch 3:  Loss:     0.8489 validation Accuracy: 0.511600\n",
      "Epoch 15, CIFAR-10 Batch 4:  Loss:     0.9287 validation Accuracy: 0.514400\n",
      "Epoch 15, CIFAR-10 Batch 5:  Loss:     1.0761 validation Accuracy: 0.510600\n",
      "Epoch 16, CIFAR-10 Batch 1:  Loss:     0.9814 validation Accuracy: 0.515200\n",
      "Epoch 16, CIFAR-10 Batch 2:  Loss:     0.8223 validation Accuracy: 0.513000\n",
      "Epoch 16, CIFAR-10 Batch 3:  Loss:     0.8054 validation Accuracy: 0.515000\n",
      "Epoch 16, CIFAR-10 Batch 4:  Loss:     0.9011 validation Accuracy: 0.524000\n",
      "Epoch 16, CIFAR-10 Batch 5:  Loss:     1.0273 validation Accuracy: 0.520200\n",
      "Epoch 17, CIFAR-10 Batch 1:  Loss:     0.9530 validation Accuracy: 0.522800\n",
      "Epoch 17, CIFAR-10 Batch 2:  Loss:     0.7712 validation Accuracy: 0.521400\n",
      "Epoch 17, CIFAR-10 Batch 3:  Loss:     0.7392 validation Accuracy: 0.513400\n",
      "Epoch 17, CIFAR-10 Batch 4:  Loss:     0.8646 validation Accuracy: 0.523200\n",
      "Epoch 17, CIFAR-10 Batch 5:  Loss:     1.0010 validation Accuracy: 0.504200\n",
      "Epoch 18, CIFAR-10 Batch 1:  Loss:     0.8572 validation Accuracy: 0.520600\n",
      "Epoch 18, CIFAR-10 Batch 2:  Loss:     0.7826 validation Accuracy: 0.525200\n",
      "Epoch 18, CIFAR-10 Batch 3:  Loss:     0.7545 validation Accuracy: 0.519800\n",
      "Epoch 18, CIFAR-10 Batch 4:  Loss:     0.8102 validation Accuracy: 0.541200\n",
      "Epoch 18, CIFAR-10 Batch 5:  Loss:     0.9523 validation Accuracy: 0.517000\n",
      "Epoch 19, CIFAR-10 Batch 1:  Loss:     0.8024 validation Accuracy: 0.522200\n",
      "Epoch 19, CIFAR-10 Batch 2:  Loss:     0.8019 validation Accuracy: 0.533000\n",
      "Epoch 19, CIFAR-10 Batch 3:  Loss:     0.6905 validation Accuracy: 0.522400\n",
      "Epoch 19, CIFAR-10 Batch 4:  Loss:     0.7769 validation Accuracy: 0.538600\n",
      "Epoch 19, CIFAR-10 Batch 5:  Loss:     0.9180 validation Accuracy: 0.521800\n",
      "Epoch 20, CIFAR-10 Batch 1:  Loss:     0.7879 validation Accuracy: 0.526000\n",
      "Epoch 20, CIFAR-10 Batch 2:  Loss:     0.7260 validation Accuracy: 0.547600\n",
      "Epoch 20, CIFAR-10 Batch 3:  Loss:     0.6986 validation Accuracy: 0.526000\n",
      "Epoch 20, CIFAR-10 Batch 4:  Loss:     0.7451 validation Accuracy: 0.543400\n",
      "Epoch 20, CIFAR-10 Batch 5:  Loss:     0.8869 validation Accuracy: 0.513400\n",
      "Epoch 21, CIFAR-10 Batch 1:  Loss:     0.7170 validation Accuracy: 0.533200\n",
      "Epoch 21, CIFAR-10 Batch 2:  Loss:     0.6475 validation Accuracy: 0.533600\n",
      "Epoch 21, CIFAR-10 Batch 3:  Loss:     0.6044 validation Accuracy: 0.537000\n",
      "Epoch 21, CIFAR-10 Batch 4:  Loss:     0.7211 validation Accuracy: 0.539000\n",
      "Epoch 21, CIFAR-10 Batch 5:  Loss:     0.8185 validation Accuracy: 0.529400\n",
      "Epoch 22, CIFAR-10 Batch 1:  Loss:     0.6862 validation Accuracy: 0.544600\n",
      "Epoch 22, CIFAR-10 Batch 2:  Loss:     0.6677 validation Accuracy: 0.534800\n",
      "Epoch 22, CIFAR-10 Batch 3:  Loss:     0.6229 validation Accuracy: 0.519200\n",
      "Epoch 22, CIFAR-10 Batch 4:  Loss:     0.6882 validation Accuracy: 0.546800\n",
      "Epoch 22, CIFAR-10 Batch 5:  Loss:     0.7903 validation Accuracy: 0.519800\n",
      "Epoch 23, CIFAR-10 Batch 1:  Loss:     0.6306 validation Accuracy: 0.533800\n",
      "Epoch 23, CIFAR-10 Batch 2:  Loss:     0.6270 validation Accuracy: 0.543600\n",
      "Epoch 23, CIFAR-10 Batch 3:  Loss:     0.5918 validation Accuracy: 0.546000\n",
      "Epoch 23, CIFAR-10 Batch 4:  Loss:     0.6676 validation Accuracy: 0.543400\n",
      "Epoch 23, CIFAR-10 Batch 5:  Loss:     0.7354 validation Accuracy: 0.538400\n",
      "Epoch 24, CIFAR-10 Batch 1:  Loss:     0.5475 validation Accuracy: 0.536400\n",
      "Epoch 24, CIFAR-10 Batch 2:  Loss:     0.5743 validation Accuracy: 0.535200\n",
      "Epoch 24, CIFAR-10 Batch 3:  Loss:     0.5154 validation Accuracy: 0.531400\n",
      "Epoch 24, CIFAR-10 Batch 4:  Loss:     0.7103 validation Accuracy: 0.535200\n",
      "Epoch 24, CIFAR-10 Batch 5:  Loss:     0.7793 validation Accuracy: 0.538000\n",
      "Epoch 25, CIFAR-10 Batch 1:  Loss:     0.5859 validation Accuracy: 0.546600\n",
      "Epoch 25, CIFAR-10 Batch 2:  Loss:     0.5377 validation Accuracy: 0.551400\n",
      "Epoch 25, CIFAR-10 Batch 3:  Loss:     0.5091 validation Accuracy: 0.558800\n",
      "Epoch 25, CIFAR-10 Batch 4:  Loss:     0.5607 validation Accuracy: 0.566400\n",
      "Epoch 25, CIFAR-10 Batch 5:  Loss:     0.6723 validation Accuracy: 0.541000\n",
      "Epoch 26, CIFAR-10 Batch 1:  Loss:     0.5373 validation Accuracy: 0.558200\n",
      "Epoch 26, CIFAR-10 Batch 2:  Loss:     0.4483 validation Accuracy: 0.537000\n",
      "Epoch 26, CIFAR-10 Batch 3:  Loss:     0.5081 validation Accuracy: 0.556800\n",
      "Epoch 26, CIFAR-10 Batch 4:  Loss:     0.5626 validation Accuracy: 0.534800\n",
      "Epoch 26, CIFAR-10 Batch 5:  Loss:     0.6073 validation Accuracy: 0.556600\n",
      "Epoch 27, CIFAR-10 Batch 1:  Loss:     0.4994 validation Accuracy: 0.557600\n",
      "Epoch 27, CIFAR-10 Batch 2:  Loss:     0.4151 validation Accuracy: 0.528000\n",
      "Epoch 27, CIFAR-10 Batch 3:  Loss:     0.4513 validation Accuracy: 0.559000\n",
      "Epoch 27, CIFAR-10 Batch 4:  Loss:     0.4324 validation Accuracy: 0.555600\n",
      "Epoch 27, CIFAR-10 Batch 5:  Loss:     0.5216 validation Accuracy: 0.568400\n",
      "Epoch 28, CIFAR-10 Batch 1:  Loss:     0.4441 validation Accuracy: 0.563600\n",
      "Epoch 28, CIFAR-10 Batch 2:  Loss:     0.4015 validation Accuracy: 0.547800\n",
      "Epoch 28, CIFAR-10 Batch 3:  Loss:     0.4532 validation Accuracy: 0.542600\n",
      "Epoch 28, CIFAR-10 Batch 4:  Loss:     0.4672 validation Accuracy: 0.562600\n",
      "Epoch 28, CIFAR-10 Batch 5:  Loss:     0.5448 validation Accuracy: 0.561800\n",
      "Epoch 29, CIFAR-10 Batch 1:  Loss:     0.4343 validation Accuracy: 0.570400\n",
      "Epoch 29, CIFAR-10 Batch 2:  Loss:     0.4341 validation Accuracy: 0.506800\n",
      "Epoch 29, CIFAR-10 Batch 3:  Loss:     0.4359 validation Accuracy: 0.540200\n",
      "Epoch 29, CIFAR-10 Batch 4:  Loss:     0.4264 validation Accuracy: 0.540200\n",
      "Epoch 29, CIFAR-10 Batch 5:  Loss:     0.5308 validation Accuracy: 0.570400\n",
      "Epoch 30, CIFAR-10 Batch 1:  Loss:     0.4604 validation Accuracy: 0.560400\n",
      "Epoch 30, CIFAR-10 Batch 2:  Loss:     0.3693 validation Accuracy: 0.529000\n",
      "Epoch 30, CIFAR-10 Batch 3:  Loss:     0.3801 validation Accuracy: 0.557800\n",
      "Epoch 30, CIFAR-10 Batch 4:  Loss:     0.4482 validation Accuracy: 0.544800\n",
      "Epoch 30, CIFAR-10 Batch 5:  Loss:     0.4176 validation Accuracy: 0.578800\n",
      "Epoch 31, CIFAR-10 Batch 1:  Loss:     0.3646 validation Accuracy: 0.566400\n",
      "Epoch 31, CIFAR-10 Batch 2:  Loss:     0.2714 validation Accuracy: 0.560000\n",
      "Epoch 31, CIFAR-10 Batch 3:  Loss:     0.3832 validation Accuracy: 0.550400\n",
      "Epoch 31, CIFAR-10 Batch 4:  Loss:     0.4252 validation Accuracy: 0.553600\n",
      "Epoch 31, CIFAR-10 Batch 5:  Loss:     0.3955 validation Accuracy: 0.571200\n",
      "Epoch 32, CIFAR-10 Batch 1:  Loss:     0.2941 validation Accuracy: 0.572800\n",
      "Epoch 32, CIFAR-10 Batch 2:  Loss:     0.2293 validation Accuracy: 0.553800\n",
      "Epoch 32, CIFAR-10 Batch 3:  Loss:     0.3035 validation Accuracy: 0.552200\n",
      "Epoch 32, CIFAR-10 Batch 4:  Loss:     0.3340 validation Accuracy: 0.568600\n",
      "Epoch 32, CIFAR-10 Batch 5:  Loss:     0.4664 validation Accuracy: 0.556200\n",
      "Epoch 33, CIFAR-10 Batch 1:  Loss:     0.2931 validation Accuracy: 0.582800\n",
      "Epoch 33, CIFAR-10 Batch 2:  Loss:     0.2215 validation Accuracy: 0.559400\n",
      "Epoch 33, CIFAR-10 Batch 3:  Loss:     0.3027 validation Accuracy: 0.556800\n",
      "Epoch 33, CIFAR-10 Batch 4:  Loss:     0.3454 validation Accuracy: 0.541200\n",
      "Epoch 33, CIFAR-10 Batch 5:  Loss:     0.3373 validation Accuracy: 0.577800\n",
      "Epoch 34, CIFAR-10 Batch 1:  Loss:     0.3508 validation Accuracy: 0.569000\n",
      "Epoch 34, CIFAR-10 Batch 2:  Loss:     0.2086 validation Accuracy: 0.579800\n",
      "Epoch 34, CIFAR-10 Batch 3:  Loss:     0.2519 validation Accuracy: 0.557600\n",
      "Epoch 34, CIFAR-10 Batch 4:  Loss:     0.3101 validation Accuracy: 0.552600\n",
      "Epoch 34, CIFAR-10 Batch 5:  Loss:     0.2827 validation Accuracy: 0.560200\n",
      "Epoch 35, CIFAR-10 Batch 1:  Loss:     0.2846 validation Accuracy: 0.563200\n",
      "Epoch 35, CIFAR-10 Batch 2:  Loss:     0.2340 validation Accuracy: 0.568000\n",
      "Epoch 35, CIFAR-10 Batch 3:  Loss:     0.2874 validation Accuracy: 0.559400\n",
      "Epoch 35, CIFAR-10 Batch 4:  Loss:     0.3241 validation Accuracy: 0.533600\n",
      "Epoch 35, CIFAR-10 Batch 5:  Loss:     0.1933 validation Accuracy: 0.575800\n",
      "Epoch 36, CIFAR-10 Batch 1:  Loss:     0.2139 validation Accuracy: 0.585200\n",
      "Epoch 36, CIFAR-10 Batch 2:  Loss:     0.1778 validation Accuracy: 0.578200\n",
      "Epoch 36, CIFAR-10 Batch 3:  Loss:     0.2623 validation Accuracy: 0.543400\n",
      "Epoch 36, CIFAR-10 Batch 4:  Loss:     0.3218 validation Accuracy: 0.532400\n",
      "Epoch 36, CIFAR-10 Batch 5:  Loss:     0.1811 validation Accuracy: 0.578800\n",
      "Epoch 37, CIFAR-10 Batch 1:  Loss:     0.1903 validation Accuracy: 0.595000\n",
      "Epoch 37, CIFAR-10 Batch 2:  Loss:     0.1712 validation Accuracy: 0.578200\n",
      "Epoch 37, CIFAR-10 Batch 3:  Loss:     0.2157 validation Accuracy: 0.551200\n",
      "Epoch 37, CIFAR-10 Batch 4:  Loss:     0.3042 validation Accuracy: 0.539200\n",
      "Epoch 37, CIFAR-10 Batch 5:  Loss:     0.2156 validation Accuracy: 0.574800\n",
      "Epoch 38, CIFAR-10 Batch 1:  Loss:     0.1864 validation Accuracy: 0.584000\n",
      "Epoch 38, CIFAR-10 Batch 2:  Loss:     0.1376 validation Accuracy: 0.571000\n",
      "Epoch 38, CIFAR-10 Batch 3:  Loss:     0.1929 validation Accuracy: 0.551600\n",
      "Epoch 38, CIFAR-10 Batch 4:  Loss:     0.2122 validation Accuracy: 0.582400\n",
      "Epoch 38, CIFAR-10 Batch 5:  Loss:     0.1897 validation Accuracy: 0.575800\n",
      "Epoch 39, CIFAR-10 Batch 1:  Loss:     0.1773 validation Accuracy: 0.571600\n",
      "Epoch 39, CIFAR-10 Batch 2:  Loss:     0.1316 validation Accuracy: 0.580200\n",
      "Epoch 39, CIFAR-10 Batch 3:  Loss:     0.1815 validation Accuracy: 0.566200\n",
      "Epoch 39, CIFAR-10 Batch 4:  Loss:     0.1891 validation Accuracy: 0.558200\n",
      "Epoch 39, CIFAR-10 Batch 5:  Loss:     0.1562 validation Accuracy: 0.574000\n",
      "Epoch 40, CIFAR-10 Batch 1:  Loss:     0.1339 validation Accuracy: 0.575200\n",
      "Epoch 40, CIFAR-10 Batch 2:  Loss:     0.1101 validation Accuracy: 0.557600\n",
      "Epoch 40, CIFAR-10 Batch 3:  Loss:     0.1823 validation Accuracy: 0.562600\n",
      "Epoch 40, CIFAR-10 Batch 4:  Loss:     0.1414 validation Accuracy: 0.574000\n",
      "Epoch 40, CIFAR-10 Batch 5:  Loss:     0.1158 validation Accuracy: 0.564000\n"
     ]
    }
   ],
   "source": [
    "\"\"\"\n",
    "DON'T MODIFY ANYTHING IN THIS CELL\n",
    "\"\"\"\n",
    "save_model_path = './image_classification'\n",
    "\n",
    "print('Training...')\n",
    "with tf.Session() as sess:\n",
    "    # Initializing the variables\n",
    "    sess.run(tf.global_variables_initializer())\n",
    "    \n",
    "    # Training cycle\n",
    "    for epoch in range(epochs):\n",
    "        # Loop over all batches\n",
    "        n_batches = 5\n",
    "        for batch_i in range(1, n_batches + 1):\n",
    "            for batch_features, batch_labels in helper.load_preprocess_training_batch(batch_i, batch_size):\n",
    "                train_neural_network(sess, optimizer, keep_probability, batch_features, batch_labels)\n",
    "            print('Epoch {:>2}, CIFAR-10 Batch {}:  '.format(epoch + 1, batch_i), end='')\n",
    "            print_stats(sess, batch_features, batch_labels, cost, accuracy)\n",
    "            \n",
    "    # Save Model\n",
    "    saver = tf.train.Saver()\n",
    "    save_path = saver.save(sess, save_model_path)"
   ]
  },
  {
   "cell_type": "markdown",
   "metadata": {
    "deletable": true,
    "editable": true
   },
   "source": [
    "# Checkpoint\n",
    "The model has been saved to disk.\n",
    "## Test Model\n",
    "Test your model against the test dataset.  This will be your final accuracy. You should have an accuracy greater than 50%. If you don't, keep tweaking the model architecture and parameters."
   ]
  },
  {
   "cell_type": "code",
   "execution_count": 19,
   "metadata": {
    "collapsed": false,
    "deletable": true,
    "editable": true
   },
   "outputs": [
    {
     "name": "stdout",
     "output_type": "stream",
     "text": [
      "Testing Accuracy: 0.5638671875\n",
      "\n"
     ]
    },
    {
     "data": {
      "image/png": "[encoded data removed]",
      "text/plain": [
       "<matplotlib.figure.Figure at 0x7fda38cf53c8>"
      ]
     },
     "metadata": {
      "image/png": {
       "height": 319,
       "width": 355
      }
     },
     "output_type": "display_data"
    }
   ],
   "source": [
    "\"\"\"\n",
    "DON'T MODIFY ANYTHING IN THIS CELL\n",
    "\"\"\"\n",
    "%matplotlib inline\n",
    "%config InlineBackend.figure_format = 'retina'\n",
    "\n",
    "import tensorflow as tf\n",
    "import pickle\n",
    "import helper\n",
    "import random\n",
    "\n",
    "# Set batch size if not already set\n",
    "try:\n",
    "    if batch_size:\n",
    "        pass\n",
    "except NameError:\n",
    "    batch_size = 64\n",
    "\n",
    "save_model_path = './image_classification'\n",
    "n_samples = 4\n",
    "top_n_predictions = 3\n",
    "\n",
    "def test_model():\n",
    "    \"\"\"\n",
    "    Test the saved model against the test dataset\n",
    "    \"\"\"\n",
    "\n",
    "    test_features, test_labels = pickle.load(open('preprocess_training.p', mode='rb'))\n",
    "    loaded_graph = tf.Graph()\n",
    "\n",
    "    with tf.Session(graph=loaded_graph) as sess:\n",
    "        # Load model\n",
    "        loader = tf.train.import_meta_graph(save_model_path + '.meta')\n",
    "        loader.restore(sess, save_model_path)\n",
    "\n",
    "        # Get Tensors from loaded model\n",
    "        loaded_x = loaded_graph.get_tensor_by_name('x:0')\n",
    "        loaded_y = loaded_graph.get_tensor_by_name('y:0')\n",
    "        loaded_keep_prob = loaded_graph.get_tensor_by_name('keep_prob:0')\n",
    "        loaded_logits = loaded_graph.get_tensor_by_name('logits:0')\n",
    "        loaded_acc = loaded_graph.get_tensor_by_name('accuracy:0')\n",
    "        \n",
    "        # Get accuracy in batches for memory limitations\n",
    "        test_batch_acc_total = 0\n",
    "        test_batch_count = 0\n",
    "        \n",
    "        for train_feature_batch, train_label_batch in helper.batch_features_labels(test_features, test_labels, batch_size):\n",
    "            test_batch_acc_total += sess.run(\n",
    "                loaded_acc,\n",
    "                feed_dict={loaded_x: train_feature_batch, loaded_y: train_label_batch, loaded_keep_prob: 1.0})\n",
    "            test_batch_count += 1\n",
    "\n",
    "        print('Testing Accuracy: {}\\n'.format(test_batch_acc_total/test_batch_count))\n",
    "\n",
    "        # Print Random Samples\n",
    "        random_test_features, random_test_labels = tuple(zip(*random.sample(list(zip(test_features, test_labels)), n_samples)))\n",
    "        random_test_predictions = sess.run(\n",
    "            tf.nn.top_k(tf.nn.softmax(loaded_logits), top_n_predictions),\n",
    "            feed_dict={loaded_x: random_test_features, loaded_y: random_test_labels, loaded_keep_prob: 1.0})\n",
    "        helper.display_image_predictions(random_test_features, random_test_labels, random_test_predictions)\n",
    "\n",
    "\n",
    "test_model()"
   ]
  },
  {
   "cell_type": "markdown",
   "metadata": {
    "deletable": true,
    "editable": true
   },
   "source": [
    "## Why 50-70% Accuracy?\n",
    "You might be wondering why you can't get an accuracy any higher. First things first, 50% isn't bad for a simple CNN.  Pure guessing would get you 10% accuracy. However, you might notice people are getting scores [well above 70%](http://rodrigob.github.io/are_we_there_yet/build/classification_datasets_results.html#43494641522d3130).  That's because we haven't taught you all there is to know about neural networks. We still need to cover a few more techniques.\n",
    "## Submitting This Project\n",
    "When submitting this project, make sure to run all the cells before saving the notebook.  Save the notebook file as \"dlnd_image_classification.ipynb\" and save it as a HTML file under \"File\" -> \"Download as\".  Include the \"helper.py\" and \"problem_unittests.py\" files in your submission."
   ]
  }
 ],
 "metadata": {
  "kernelspec": {
   "display_name": "Python 3",
   "language": "python",
   "name": "python3"
  },
  "language_info": {
   "codemirror_mode": {
    "name": "ipython",
    "version": 3
   },
   "file_extension": ".py",
   "mimetype": "text/x-python",
   "name": "python",
   "nbconvert_exporter": "python",
   "pygments_lexer": "ipython3",
   "version": "3.5.3"
  }
 },
 "nbformat": 4,
 "nbformat_minor": 0
}
